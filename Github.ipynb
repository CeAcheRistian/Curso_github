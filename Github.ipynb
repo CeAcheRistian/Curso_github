{
 "cells": [
  {
   "cell_type": "markdown",
   "id": "b6d0ede1-cba1-426a-83ca-089dacb19b35",
   "metadata": {},
   "source": [
    "<h1><strong> Curso Github"
   ]
  },
  {
   "cell_type": "markdown",
   "id": "dae00bdd-4ed4-439e-8118-b99c6a3d6b60",
   "metadata": {},
   "source": [
    "## **Control de versiones**"
   ]
  },
  {
   "cell_type": "markdown",
   "id": "330f1e25-46cf-4eb4-b912-f84265c71c71",
   "metadata": {},
   "source": [
    "Una versión de  un proyecto es un estado único en un punto determinado del tiempo. Es un paso a paso de un determinado proceso, la idea es que se realice de forma metódica. Como la metodología de la investigación cuantitativa.<br>\n",
    "Es posible que en este proceso de las versiones podamos regresarnos a un estado anterior, por multiples factores esto es requerido, como un error en una versión actual del proyecto.<br>\n",
    "Para los proyectos de software se requiere de un control de múltiples archivos, trabajo en equipo porque se tiende a ser proyectos grandes.<br>\n",
    "Existen programas para el control de versiones, los cuales permiten acceder a las versiones del proyecto, facilitar el trabajo en equipo, aumentar la productividad, tener copias de seguridad y solucionar errores con más facilidad.<br>\n",
    "Existen 3 tipos de controladores de versiones: <strong>local, centralizado y distribuido</strong><br>\n",
    "Local: su nombre lo dice, todo el repositorio se encuantra en una sola máquina<br>\n",
    "Centralizado: EL repositorio se encuentra en un servidor y se accede desde una pc<br>\n",
    "Distribuido: Donde se tienen copias del repositorio tanto en el servidor como en las pc de los integrantes.<br>"
   ]
  },
  {
   "cell_type": "markdown",
   "id": "d1466711-f7de-415a-97a7-f26252018ab2",
   "metadata": {},
   "source": [
    "<h2><strong>¿Qué es Git?"
   ]
  },
  {
   "cell_type": "markdown",
   "id": "f4892a4b-73af-452e-82a0-1ccd61e2e321",
   "metadata": {},
   "source": [
    "Es un sistema de control de versiones distribuido gratuito, el cual nos permite versionar cualquier proyecto.<br>\n",
    "<strong>Para más información revisar el repositorio de Git</strong>"
   ]
  },
  {
   "cell_type": "markdown",
   "id": "132dc080-955a-4cc3-abff-9b22cba2ed6e",
   "metadata": {},
   "source": [
    "<h2><strong>¿Qué es GitHub?"
   ]
  },
  {
   "cell_type": "markdown",
   "id": "410510a4-a272-4c0f-be40-8a436c27281b",
   "metadata": {},
   "source": [
    "Empresa que provee almacenamiento para proyectos de software que utilizan git.<br>\n",
    "Github es el servidor para tener un control de versiones distribuido.<br>\n",
    "Permite almacenar proyectos de software, tiene una interfaz web, incluye herramientas para trabajar en equipo, permite la gestión de tareas y CI/CD, es todo un ecosistema bien elaborado.<br>\n",
    "Existen otras herramientas como gitlab, bitbucket y azure repos.<br>\n",
    "<img src=\"imagenes/Screenshot 2024-10-14 170748.png\"><br>\n",
    "<br>\n",
    "Para usar Github se requiere crear una cuenta.<br>\n",
    "En la campana podremos visualizar las notificaciones por si hemos contribuido o si hemos hecho alguna modificación o un pull request.<br>\n",
    "En el perfil vemos un historial de contribuciones, todos los repositorios,proyectos paquetes y repositorios favoritos."
   ]
  },
  {
   "cell_type": "markdown",
   "id": "68336e20-8a8c-41e5-a879-a534c4ea89a6",
   "metadata": {},
   "source": [
    "<h2><strong>Instalación, inicialización y los repositorios de Git"
   ]
  },
  {
   "cell_type": "markdown",
   "id": "f713a682-0478-4c48-b871-7c44135d171d",
   "metadata": {},
   "source": [
    "Para saber como instalar, inicializar y más información, consultar el repositorio del curso de git.<br>\n",
    "Para crear un repo se hace git init en la consola, estando en la carpeta donde va a ser el repo, después en la plataforma creamos le damos a new y seguimos los pasos.<br>\n",
    "También se puede clonar el repositorio, esto para inicializarlo o para contribuir a uno.<br>\n",
    "<br>\n",
    "Ramas, comandos, áreas de trabajo, workflow. En el repositorio del curso de git."
   ]
  },
  {
   "attachments": {},
   "cell_type": "markdown",
   "id": "4aff3031-a5bd-41d3-a777-2072a4c85035",
   "metadata": {},
   "source": [
    "Después de haber creado una rama (git branch, add, commit). Esta solo se ha creado en git, pero no en github.<br>\n",
    "Para ver la rama en github hacemos <strong>git push origin nombredelarama</strong><br>\n",
    "En la plataforma, si damos click en branches podremos ver todas las ramas, default, las que hemos creado y las que están activas. Así como todos los commits que se han realizado fuera de la rama main, tanto los commits atrasados como los adelantados. Esto se da por las ramas que se tiene.<br>\n",
    "Se puede editar el nombre de la rama, eliminarla, filtrar entre las ramas, así como crear."
   ]
  },
  {
   "cell_type": "markdown",
   "id": "d5a0b451-9252-4fc1-a95b-5bd8d5f85086",
   "metadata": {},
   "source": [
    "<h2><strong>Actualizar ramas"
   ]
  },
  {
   "cell_type": "markdown",
   "id": "74b2cdc7-a5b2-4943-9b0c-ac00c67e485a",
   "metadata": {},
   "source": [
    "Primero actualizamos la rama principal haciendo un pull: <strong>git pull origin main</strong><br>\n",
    "Después hacemos un switch a la rama que tiene los cambios <strong>git switch nombredelarama</strong><br>\n",
    "Para finalizar con un merge <strong>git merge</strong><br>\n",
    "<br>\n",
    "Este proceso también se puede hacer a través de la plataforma de Github<br>\n",
    "Nos vamos a la rama secundaria y vemos que nos sale una alerta de <em>\"This branch is X commits behind main\"</em>, damos click y en el menú, vemos el historial de commits que no tenemos en la rama secundaria, así como una opción de hacer un <strong>pull request</strong> en el cual se agregan estos cambios. Entonces damos click en el pull request, agregamos un titulo y un mensaje, como si de un commit se tratase.<br>\n",
    "Posteriormente hacemos click en <em> merge pull request</em> y la rama secundaria se actualizaría con los cambios más recientes en la rama padre.<br>\n",
    "Otra forma de hacer esto  automáticamente es: ir a configuración -> pull request -> activar la casilla de <em>\"Always suggest updating pull request branches\"</em>"
   ]
  },
  {
   "cell_type": "markdown",
   "id": "7d008173-50fd-4a95-bb92-2b01e2ece669",
   "metadata": {},
   "source": [
    "<h2><strong>Conflictos de Git</strong>"
   ]
  },
  {
   "cell_type": "markdown",
   "id": "151e587d-54b9-45f6-8f61-a2b2cc9be0b4",
   "metadata": {},
   "source": [
    "El primer error a denotar es el que sale al intentar hacer merge. El primer error da al iniciar el merge, ya que las áreas de trabajo y staging no están limpias. Para solucionar este trabajo hay que solucionar las áreas con : <strong>git commit, stash, checkout, reset</strong>.<br> \n",
    "El segundo conflicto sucede cuando ya está empezando el merge, pero las líneas de código se enciman y se tiene que borrar los cambios que no se desean.<br>\n",
    "<br>\n",
    "Github nos advierte de los problemas y se muestra en la pestaña de pull request. Para resoverlos podemos descargar las ramas y resolverlo en un editor de texto o dando click en <em>\"Resolve conflicts\"</em>. Donde nos abre un editor de código y con marcas y colores anuncia los conflictos, y borramos manualmente los cambios que no queremos. Y listo, con esto podemos dar un merge."
   ]
  },
  {
   "cell_type": "markdown",
   "id": "bdbe7646-32e5-478a-906b-82e472d72340",
   "metadata": {},
   "source": [
    "<h2><strong>Git workflow"
   ]
  },
  {
   "cell_type": "markdown",
   "id": "6f56a419-3ae1-47a3-85ba-3a7b5ce9d9cf",
   "metadata": {},
   "source": [
    "Checar el curso de git!"
   ]
  },
  {
   "cell_type": "markdown",
   "id": "b9638ad2-536f-45ad-9b24-f884bcfdffe2",
   "metadata": {},
   "source": [
    "<h2><strong>Commits"
   ]
  },
  {
   "cell_type": "markdown",
   "id": "2bdb2985-c2a2-427a-ae05-d4d310331601",
   "metadata": {},
   "source": [
    "Desde github es posible revisar del todo el historial de commits."
   ]
  },
  {
   "cell_type": "markdown",
   "id": "8ae00425-33fe-4da3-89d9-bf69648702d7",
   "metadata": {},
   "source": [
    "<h2><strong>Issues"
   ]
  },
  {
   "cell_type": "markdown",
   "id": "d880c411-967d-4932-b8c8-b2c9b6414e32",
   "metadata": {},
   "source": [
    "En github hay un espacio para escribir tareas y dar seguimiento a ellas, tareas copmo bugs, ideas, retralimentación a las mismas.<br>\n",
    "Cada repositorio cuenta con un espacio así. Es espacio de issue, se debe crear cuando haya una tarea a la cual darle seguimiento, para reportar un bug de la aplicación, compartir feedback sobre un feature, hacer una pregunta sobnre el funcionamiento del código.<br>\n",
    "En la plataforma, dentro de un repositorio, existe la pestaña de issues, en el botón de <em>new issue</em>, podemos crearlo, la inferfaz es muy similar a la de un commmit, también es editable cuando ya se manda.<br> \n",
    "También se le puede colocar etiquetas o labels, esto para organizarnos, github nos da una lista predefinida de tipos de etiquetas.<br>\n",
    "Dentro del mismo menú, existe el botón <em>Assignees</em>, en el cual podemos etiquetar a los miembros del equipo que son responsables o tienen que ver con esa tarea.<br>\n",
    "Para realizar un seguimiento de las tareas, se permite asociar un issue con un pull request. En el lado derecho del titulo del issue hay un número, este es su identificador, se va a asociar. Vamos al menú de la pestaña de <em>pull request</em> y se crea uno para la tarea. En el mensaje escribimos el simbolo de <strong>#</strong> y se despliega un menú, donde es posible añadir el issue.<br>\n",
    "Si regresamos a la pestaña del issue, veremos que al final de la linea hay una redirección al pull request.<br>\n",
    "Otra forma de hacer esto es ir al menú, dentro de issue, en <em>Development</em> y seleccionamos el pull request correspondiente. De esta manera, al cerrar o hacer merge del pull request, se cerrará el issue automáticamente.<br>\n",
    "Github nos da templates o plantillas para issues, para que todos los issues vayan de la misma manera, como un standard de la estructura. Para hacer esto vamos a Settings -> Features -> Issues - > Set up templates.<br>\n",
    "Github tiene 2 templates por defecto, bug request, feature request y el personalizado.<br>\n",
    "Aquí damos las indicaciones que deben tener todos los templates de un mismo tipo. AL finalizar podemos hacer un commit de la plantilla. Las plantillas se guardan en la carpeta .github en formato .mb<br>\n",
    "Si nos vamos a issue, podremos ver la plantilla para cierto tipos de tareas o errores.<br>\n",
    "Para desactivar los issues la ruta es casi identica para crear un template."
   ]
  },
  {
   "cell_type": "markdown",
   "id": "bb448db2-0ba7-4f2b-aa80-a2e223c67924",
   "metadata": {},
   "source": [
    "<h2><strong>Gestión de proyectos"
   ]
  },
  {
   "cell_type": "markdown",
   "id": "80ad88ef-5517-41ff-ab0e-c570a98e3cd2",
   "metadata": {},
   "source": [
    "La gestión de un proyecto nos permite escribir, agrupar y priorizar tareas, así como establecer fechas límite y ver las etad;isticas de las tareas completadas. A diferencia de un issue, los proyectos dependen de un solo usuario, el cual puede tener multiples proyectos que se desarrollen en varios repositorios.<br>\n",
    "Un ejemplo de esto es tener una tienda como proyecto y tener 3 repositorios, 1 para el frontend, 1 para el backend y el último para la aplicación movil.<br>\n",
    "Para crear un nuevo proyeco, vamos a la pestaña <em>\"Projects\"</em> y click en <em>new project</em>. Se despliega un submenú donde te pregunta por el template a usar. Podemos cambiar la vista de un tablero verticar a uno similar a una hoja de excel.<br>\n",
    "Aquí es para la organización de proyectos, agregando las tareas por ahcer. A cada tarea se le puede seleccionar una prioridad, una asignación, una etiqueta, si esa tarea tiene un pull request asociado, en qué estatus se encuentra. A cada tarea se le puede dar una mayor descripción, pero si eso no basta y queremos una \"conversación\" entonces: seleccionamos una tarea y damos click a convert to issue, seleccionando el repositorio donde se colocará ese issue para involucrar a más personas del equipo. Y al finalizar el issue, dentro del repositorio correspondiente, se vará actualizado en el proyecto.<br> \n",
    "Dentro de la pestaña de proyectos podemos ver los repositorios involucrados.<br>\n"
   ]
  },
  {
   "cell_type": "markdown",
   "id": "08cc6634-3b6d-49bc-b515-c40cdd8b3bbe",
   "metadata": {},
   "source": [
    "<h2><strong>Pull request"
   ]
  },
  {
   "cell_type": "markdown",
   "id": "d23bcbf6-a9cb-4eb8-b0a4-95483c0a7578",
   "metadata": {},
   "source": [
    "Un pull request es una especie de sustitución a un merge, la diferencia recae en si el proyecto se hace individual o grupal. Ya que hacer un merge sin consultar el cósdigo o aviar a los demás participantes puede causar problemas. un <strong>pull request</strong> es una solicitud para integrar nuestros cambios en una rama diferente, promueve el trabajo en equipo y la colaboración para mejorar el código.<br>\n",
    "Dentro del repositorio en la pestana de pull request damos a crear uno, seleccionamos la rama de la cual queremos hacer el pull request. En la interfaz que se muestra vemos los cambios que se comparan, de la rama secundaria a la rama padre es por defecto, pero nosotros podemos modificar a qué rama se puede hacer. También nos muestra si es posible hacer merge o si hay algún conflicto. Le damos un título al pull request y un mensaje.<br>\n",
    "Si el repositorio, cualquier persona puede hacer un comentario al pull request. Para cambiar esto: Settings -> (menu a la izquierda) Moderation options.<br>\n",
    "<br>\n",
    "De regreso a la pestaña de pull request vemos todos los que se han hecho, si hacemos click en uno veremos su desarrollo, así como los commits de este mismo. SI quiemos ver solo los commits de este pull request entonces vamos al subtab de Commits y veremos solo los cambios delas líneas de código.<br>\n",
    "En el último subtab <em>\"Files changes\"</em> podemos ver un resumen de todos los cambios que se están tratando de introduciir, en color verde las líneas agregadas y en rojo las eliminadas. Para hacer un cambio en la forma de presentación de esto, dando click en la \"ruedita\" o engrane que simboliza configuraciones.<br>\n",
    "En la parte derecha vemos numeritos en color verde y rojo, esto se le conoce como <strong>delta</strong>, simboliza la cantidad de lineas agregadas y eliminadas, se recomienda que el delta de un pull request no sea mayor a 200 lineas.<br>\n",
    "En el subtab <em>\"Cheks\"</em> se crean verificaciones especiales y limitar con estas la posibilidad de hacer merge del pull request. Se puede crear un check que ejecute todos los test y si alguno falla, entonces no se hace el merge, o también se puede verificar que el built-in del proyect se ejecute sin errores o que el código cumpla con ciertos estándares. Más info en el mismo subtab.<br>\n",
    "En la pantalla principal de un pull request, de lado derecho vemos los <em>\"Reviwers\"</em> los cuales son personas que revisan los pull request, al agregarlos, les llega la notificación para verificar el código.<br>\n",
    "<br>\n",
    "Para personalizar los requisitos para un pull request es Settings -> Branches. Aquí podemos configuirar que la única forma de integrar los cambios sea através de un pull request y también si se quiere ver un resumen todos los pull request abiertos en todos los repositorios se puede dar click en el tab superior,a un lado de la barra de navegación.<br>\n",
    "<br>\n",
    "Consejos para la descripción de un pull request: explciar quee se quiere lograr con los cambios, tener mensajes de commits descriptivos, agregar enlace al ticket/issue, agregar capturas de pantalla, mantener un delta inferior a 200 líneas.<br>\n",
    "Para otra informaciónn revisar el curso de git."
   ]
  },
  {
   "cell_type": "markdown",
   "id": "faed740a-2791-4ca4-9d32-bf7d28658057",
   "metadata": {},
   "source": [
    "<h2><strong>Code Review"
   ]
  },
  {
   "cell_type": "markdown",
   "id": "41c1fedc-4d15-4918-be0f-1fb6feb23966",
   "metadata": {},
   "source": [
    "Es el proceso en el cual se examina el código que se quiere integrar con un pull request y se brinda retroalimentación sobre el. Este proceso son permite aprender y compartir, aumentar estándares, mejorar la cultura de la empresa y reducir la probabilidad de introducir errores.<br>\n",
    "Esto se hace dentro de un pull request, vamos al subtab Files changes y si pasamos el cursos sobre las lineas de código modificadas veremos un ícono de un más color azul, si damos click podremos dejar un comentario. Y al finalizar el feedback de las líneas necesarias, le damos el boton de finalizar review y nos da 3 opciones, comentar, aprobar y desaprobar. La primera solo es un comentario, con la segunda damos el visto bueno para hacer merge y la tercera significa que hay que hacer cambios al código, esta última opció puede bloquear el pull request, cuestion que puede o no ser un peligro para el flujo de trabajo.<br>\n",
    "¿Qué se revisa de un pull request?: Criterios de aceptación del flujo de trabajo, efectos secundarios, legibilidad, mantenibilidad, consistrencia, performance, manejo de excepciones, simplicidad y las pruebas.<br>\n",
    "Buenas prácticas: Auntomatizar la verificación de formatos (cosas como los puntos y coma, el nombre de variables, ...), todo el equipo debería hacer code review (para aportar y/o para aprender)y pedir el contexto del pull request o de lo que se está revisando.<br>\n"
   ]
  },
  {
   "cell_type": "markdown",
   "id": "a66d6ff1-239d-4511-872a-c886b3784b44",
   "metadata": {},
   "source": [
    "<h2><strong>Github Pages"
   ]
  },
  {
   "cell_type": "markdown",
   "id": "e9c841f2-6f95-4d2c-9152-faade3c011eb",
   "metadata": {},
   "source": [
    "Github funge como host para sitios web estáticos, así como un domino nombredelUsuario.github.io<br> Eso de web estática significa que el contenido se muestra al usuario tal como está almacenado y todo slos usuarios ven la misma información.<br>\n",
    "Se destina para uso personal, para generar un portafolio, sitios de la comunidad, proyectos open source.<br>\n",
    "<br>\n",
    "Para crear un github pages, se crea un repositorio con el nombre del usuario por nombre del repositorio. agregando el .github.io<br>\n",
    "Después vamos a Settings -> Pages -> Theme Chooser y selecionamos un tema que github nos proporciona. Al seleccioar uno nos muestra un template de la web, se puede modificar y al finalizar hacemos el commit. Y listo, en la página principal del repositorio veremos un identificador  junto a una punto de color, significa que se está publicando, al cambian a una palomita verde, ya podemos acceder a el. Hago énfasis en esto ya que puede tardar minutos<br>\n",
    "<br>\n",
    "Para modificar el template mostrado, modificamos index.md<br>\n",
    "Para publicar un proyecto ya existente. Nos vamos Settings -> Pages -> Build and deployment -> Source -> deploy from branch y en Branch seleccionamos la rama main, la carpeta root, busca por defecto el archivo index.html y le damos en save.<br>\n",
    "Cuando se publique la página se accede a ella con /nombredelrepositorio añadido a la ruta.<br>\n",
    "Al ya estar publicada podemos ir a Pages dentro de Setting y nos muestra la url de donde se montó la web. <br>\n",
    "<br>\n",
    "Es posible tener un dominio personalizado, es ves de tenerlo en .github.io puede ser desarrollador27.dev.<br>\n",
    "Para hacer esto debemos comprar un domino, como en doDaddy, Namecheap o Google Domains. Después vamos a Settings -> Pages -> Custom domain Y aquí escribimos el nombre del dominio. Después de que se ejecuten las pruebas de github ya será capaz de entrar cualquier persona<br>"
   ]
  },
  {
   "cell_type": "markdown",
   "id": "2d0656ef-2d0c-4ffd-99f9-4caed089372a",
   "metadata": {},
   "source": [
    "## Markdown"
   ]
  },
  {
   "cell_type": "markdown",
   "id": "c496c630-cfe1-4a95-887a-7dae04a72b81",
   "metadata": {},
   "source": [
    "Lenguaje de Markup que nos permite escribir texto formateado con una sintaxis simple, que es fácil de leer y escribir.<br>\n",
    "Sirve para sitios web, documentación, blogs, archivos README. Su sintaxis después de ser procesada se convierte a html<br>\n",
    "Github lo hace parte de su ecosistema para así escribir los pull request, issues, documentación, readme, foros de discusión o cualquier item que acepte texto plano en la plataforma.<br>\n",
    "Creado en 2004. Pero Github tiene su estandarización de nombre <strong>Github Flavored Markdown</strong> agregando más funcionalidades.<br>\n",
    "<br>\n",
    "Para los titulos, van del h1 al h6, aquí sería el numeral: # para h1 y ###### para el h6. Esto al iniciar la línea.\n",
    "#### hola\n",
    "Para una lista colocamos un guion: - <br>\n",
    "- uno\n",
    "- dos\n",
    "Para las url usamos corchetes [] y luego paréntesis ()<br>\n",
    "[click para ir a google](www.google.com)<br>\n",
    "Par github funciona igual.\n",
    "Solo que en la interfaz hay íconos para hacernos la vida más fácil.<br>\n",
    "\n",
    "### para más información, leer la [documentación de github](https://docs.github.com/es/get-started/writing-on-github/getting-started-with-writing-and-formatting-on-github/quickstart-for-writing-on-github)\n"
   ]
  },
  {
   "cell_type": "markdown",
   "id": "e7f29e28-171f-4f36-94b4-3d7a1a12d890",
   "metadata": {},
   "source": [
    "## Readme"
   ]
  },
  {
   "cell_type": "markdown",
   "id": "5d3eb492-8162-46fd-a7c4-576cb5b388cb",
   "metadata": {},
   "source": [
    "En cada repositorio decente en github, tiene un readme con información sobre el proyecto. Este archivo es la primer impresión que se llevarán del proyecto. Un archivo readme responde a las preguntas qué es el proyecto, por qué es útil y cómo podemos usarlo.<br>\n",
    "para que github detecte la existencia de este readme se debe almacenar en **.github/README.md o /README.md o docs/README.md**<br>\n",
    "Como recomendación un readme debe llevar título, descripción, instalación y ejecución, como se utliza el proyecto. Pero se puede ser sumamente creativo en el documento<br>\n"
   ]
  },
  {
   "cell_type": "markdown",
   "id": "d6f194b7-e5b6-4f28-b0a8-a994d70d023f",
   "metadata": {},
   "source": []
  },
  {
   "cell_type": "markdown",
   "id": "18c157ff-cd6a-47bb-bdd9-9eab00494c38",
   "metadata": {},
   "source": []
  },
  {
   "cell_type": "markdown",
   "id": "c3866795-19e6-4eb6-aab2-b2fba5f22f94",
   "metadata": {},
   "source": []
  }
 ],
 "metadata": {
  "kernelspec": {
   "display_name": "Python 3 (ipykernel)",
   "language": "python",
   "name": "python3"
  },
  "language_info": {
   "codemirror_mode": {
    "name": "ipython",
    "version": 3
   },
   "file_extension": ".py",
   "mimetype": "text/x-python",
   "name": "python",
   "nbconvert_exporter": "python",
   "pygments_lexer": "ipython3",
   "version": "3.10.12"
  }
 },
 "nbformat": 4,
 "nbformat_minor": 5
}

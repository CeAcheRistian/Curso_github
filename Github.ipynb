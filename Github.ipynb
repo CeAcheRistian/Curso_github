{
 "cells": [
  {
   "cell_type": "markdown",
   "id": "b6d0ede1-cba1-426a-83ca-089dacb19b35",
   "metadata": {},
   "source": [
    "<h1><strong> Curso Github"
   ]
  },
  {
   "cell_type": "markdown",
   "id": "dae00bdd-4ed4-439e-8118-b99c6a3d6b60",
   "metadata": {},
   "source": [
    "<h2><strong>Control de versiones"
   ]
  },
  {
   "cell_type": "markdown",
   "id": "330f1e25-46cf-4eb4-b912-f84265c71c71",
   "metadata": {},
   "source": [
    "Una versión de  un proyecto es un estado único en un punto determinado del tiempo. Es un paso a paso de un determinado proceso, la idea es que se realice de forma metódica. Como la metodología de la investigación cuantitativa.<br>\n",
    "Es posible que en este proceso de las versiones podamos regresarnos a un estado anterior, por multiples factores esto es requerido, como un error en una versión actual del proyecto.<br>\n",
    "Para los proyectos de software se requiere de un control de múltiples archivos, trabajo en equipo porque se tiende a ser proyectos grandes.<br>\n",
    "Existen programas para el control de versiones, los cuales permiten acceder a las versiones del proyecto, facilitar el trabajo en equipo, aumentar la productividad, tener copias de seguridad y solucionar errores con más facilidad.<br>\n",
    "Existen 3 tipos de controladores de versiones: <strong>local, centralizado y distribuido</strong><br>\n",
    "Local: su nombre lo dice, todo el repositorio se encuantra en una sola máquina<br>\n",
    "Centralizado: EL repositorio se encuentra en un servidor y se accede desde una pc<br>\n",
    "Distribuido: Donde se tienen copias del repositorio tanto en el servidor como en las pc de los integrantes.<br>"
   ]
  },
  {
   "cell_type": "markdown",
   "id": "d1466711-f7de-415a-97a7-f26252018ab2",
   "metadata": {},
   "source": [
    "<h2><strong>¿Qué es Git?"
   ]
  },
  {
   "cell_type": "markdown",
   "id": "f4892a4b-73af-452e-82a0-1ccd61e2e321",
   "metadata": {},
   "source": [
    "Es un sistema de control de versiones distribuido gratuito, el cual nos permite versionar cualquier proyecto.<br>\n",
    "<strong>Para más información revisar el repositorio de Git</strong>"
   ]
  },
  {
   "cell_type": "markdown",
   "id": "132dc080-955a-4cc3-abff-9b22cba2ed6e",
   "metadata": {},
   "source": [
    "<h2><strong>¿Qué es GitHub?"
   ]
  },
  {
   "cell_type": "markdown",
   "id": "410510a4-a272-4c0f-be40-8a436c27281b",
   "metadata": {},
   "source": [
    "Empresa que provee almacenamiento para proyectos de software que utilizan git.<br>\n",
    "Github es el servidor para tener un control de versiones distribuido.<br>\n",
    "Permite almacenar proyectos de software, tiene una interfaz web, incluye herramientas para trabajar en equipo, permite la gestión de tareas y CI/CD, es todo un ecosistema bien elaborado.<br>\n",
    "Existen otras herramientas como gitlab, bitbucket y azure repos.<br>\n",
    "<img src=\"imagenes/Screenshot 2024-10-14 170748.png\"><br>\n",
    "<br>\n",
    "Para usar Github se requiere crear una cuenta.<br>\n",
    "En la campana podremos visualizar las notificaciones por si hemos contribuido o si hemos hecho alguna modificación o un pull request.<br>\n",
    "En el perfil vemos un historial de contribuciones, todos los repositorios,proyectos paquetes y repositorios favoritos."
   ]
  },
  {
   "cell_type": "markdown",
   "id": "68336e20-8a8c-41e5-a879-a534c4ea89a6",
   "metadata": {},
   "source": [
    "<h2><strong>Instalación, inicialización y los repositorios de Git"
   ]
  },
  {
   "cell_type": "markdown",
   "id": "f713a682-0478-4c48-b871-7c44135d171d",
   "metadata": {},
   "source": [
    "Para saber como instalar, inicializar y más información, consultar el repositorio del curso de git.<br>\n",
    "Para crear un repo se hace git init en la consola, estando en la carpeta donde va a ser el repo, después en la plataforma creamos le damos a new y seguimos los pasos.<br>\n",
    "También se puede clonar el repositorio, esto para inicializarlo o para contribuir a uno.<br>\n",
    "<br>\n",
    "Ramas, comandos, áreas de trabajo, workflow. En el repositorio del curso de git."
   ]
  },
  {
   "attachments": {},
   "cell_type": "markdown",
   "id": "4aff3031-a5bd-41d3-a777-2072a4c85035",
   "metadata": {},
   "source": [
    "Después de haber creado una rama (git branch, add, commit). Esta solo se ha creado en git, pero no en github.<br>\n",
    "Para ver la rama en github hacemos <strong>git push origin nombredelarama</strong><br>\n",
    "En la plataforma, si damos click en branches podremos ver todas las ramas, default, las que hemos creado y las que están activas. Así como todos los commits que se han realizado fuera de la rama main, tanto los commits atrasados como los adelantados. Esto se da por las ramas que se tiene.<br>\n",
    "Se puede editar el nombre de la rama, eliminarla, filtrar entre las ramas, así como crear."
   ]
  },
  {
   "cell_type": "markdown",
   "id": "d5a0b451-9252-4fc1-a95b-5bd8d5f85086",
   "metadata": {},
   "source": [
    "<h2><strong>Actualizar ramas"
   ]
  },
  {
   "cell_type": "markdown",
   "id": "74b2cdc7-a5b2-4943-9b0c-ac00c67e485a",
   "metadata": {},
   "source": [
    "Primero actualizamos la rama principal haciendo un pull: <strong>git pull origin main</strong><br>\n",
    "Después hacemos un switch a la rama que tiene los cambios <strong>git switch nombredelarama</strong><br>\n",
    "Para finalizar con un merge <strong>git merge</strong><br>\n",
    "<br>\n",
    "Este proceso también se puede hacer a través de la plataforma de Github<br>\n",
    "Nos vamos a la rama secundaria y vemos que nos sale una alerta de <em>\"This branch is X commits behind main\"</em>, damos click y en el menú, vemos el historial de commits que no tenemos en la rama secundaria, así como una opción de hacer un <strong>pull request</strong> en el cual se agregan estos cambios. Entonces damos click en el pull request, agregamos un titulo y un mensaje, como si de un commit se tratase.<br>\n",
    "Posteriormente hacemos click en <em> merge pull request</em> y la rama secundaria se actualizaría con los cambios más recientes en la rama padre.<br>\n",
    "Otra forma de hacer esto  automáticamente es: ir a configuración -> pull request -> activar la casilla de <em>\"Always suggest updating pull request branches\"</em>"
   ]
  },
  {
   "cell_type": "markdown",
   "id": "7d008173-50fd-4a95-bb92-2b01e2ece669",
   "metadata": {},
   "source": [
    "<h2><strong>Conflictos de Git</strong>"
   ]
  },
  {
   "cell_type": "markdown",
   "id": "151e587d-54b9-45f6-8f61-a2b2cc9be0b4",
   "metadata": {},
   "source": [
    "El primer error a denotar es el que sale al intentar hacer merge. El primer error da al iniciar el merge, ya que las áreas de trabajo y staging no están limpias. Para solucionar este trabajo hay que solucionar las áreas con : <strong>git commit, stash, checkout, reset</strong>.<br> \n",
    "El segundo conflicto sucede cuando ya está empezando el merge, pero las líneas de código se enciman y se tiene que borrar los cambios que no se desean.<br>\n",
    "<br>\n",
    "Github nos advierte de los problemas y se muestra en la pestaña de pull request. Para resoverlos podemos descargar las ramas y resolverlo en un editor de texto o dando click en <em>\"Resolve conflicts\"</em>. Donde nos abre un editor de código y con marcas y colores anuncia los conflictos, y borramos manualmente los cambios que no queremos. Y listo, con esto podemos dar un merge."
   ]
  },
  {
   "cell_type": "markdown",
   "id": "bdbe7646-32e5-478a-906b-82e472d72340",
   "metadata": {},
   "source": [
    "<h2><strong>Git workflow</strong>"
   ]
  },
  {
   "cell_type": "markdown",
   "id": "6f56a419-3ae1-47a3-85ba-3a7b5ce9d9cf",
   "metadata": {},
   "source": [
    "Checar el curso de git!"
   ]
  },
  {
   "cell_type": "markdown",
   "id": "b9638ad2-536f-45ad-9b24-f884bcfdffe2",
   "metadata": {},
   "source": []
  },
  {
   "cell_type": "markdown",
   "id": "2bdb2985-c2a2-427a-ae05-d4d310331601",
   "metadata": {},
   "source": []
  },
  {
   "cell_type": "markdown",
   "id": "8ae00425-33fe-4da3-89d9-bf69648702d7",
   "metadata": {},
   "source": []
  },
  {
   "cell_type": "markdown",
   "id": "d880c411-967d-4932-b8c8-b2c9b6414e32",
   "metadata": {},
   "source": []
  },
  {
   "cell_type": "markdown",
   "id": "bb448db2-0ba7-4f2b-aa80-a2e223c67924",
   "metadata": {},
   "source": []
  },
  {
   "cell_type": "markdown",
   "id": "80ad88ef-5517-41ff-ab0e-c570a98e3cd2",
   "metadata": {},
   "source": []
  },
  {
   "cell_type": "markdown",
   "id": "08cc6634-3b6d-49bc-b515-c40cdd8b3bbe",
   "metadata": {},
   "source": []
  },
  {
   "cell_type": "markdown",
   "id": "d23bcbf6-a9cb-4eb8-b0a4-95483c0a7578",
   "metadata": {},
   "source": []
  },
  {
   "cell_type": "markdown",
   "id": "18c157ff-cd6a-47bb-bdd9-9eab00494c38",
   "metadata": {},
   "source": []
  },
  {
   "cell_type": "markdown",
   "id": "c3866795-19e6-4eb6-aab2-b2fba5f22f94",
   "metadata": {},
   "source": []
  }
 ],
 "metadata": {
  "kernelspec": {
   "display_name": "Python 3 (ipykernel)",
   "language": "python",
   "name": "python3"
  },
  "language_info": {
   "codemirror_mode": {
    "name": "ipython",
    "version": 3
   },
   "file_extension": ".py",
   "mimetype": "text/x-python",
   "name": "python",
   "nbconvert_exporter": "python",
   "pygments_lexer": "ipython3",
   "version": "3.10.12"
  }
 },
 "nbformat": 4,
 "nbformat_minor": 5
}
